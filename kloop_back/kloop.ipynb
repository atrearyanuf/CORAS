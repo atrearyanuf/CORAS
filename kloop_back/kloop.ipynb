{
 "cells": [
  {
   "cell_type": "code",
   "execution_count": null,
   "id": "fb7bb724-a7c2-412d-892c-c6f89aea938a",
   "metadata": {},
   "outputs": [],
   "source": [
    "import os\n",
    "os.environ['LANGCHAIN_TRACING_V2'] = 'true'\n",
    "os.environ['LANGCHAIN_ENDPOINT'] = 'https://api.smith.langchain.com'\n",
    "os.environ['LANGCHAIN_API_KEY'] = ''"
   ]
  },
  {
   "cell_type": "code",
   "execution_count": null,
   "id": "e50c86d9-3aa3-45a9-a0bd-ea52f68a9807",
   "metadata": {},
   "outputs": [],
   "source": [
    "os.environ['OPENAI_API_KEY'] = ''\n",
    "os.environ['COHERE_API_KEY'] = ''"
   ]
  },
  {
   "cell_type": "code",
   "execution_count": 7,
   "id": "70b72916-3ee1-4780-ba65-f86e0c499c0b",
   "metadata": {},
   "outputs": [
    {
     "name": "stderr",
     "output_type": "stream",
     "text": [
      "USER_AGENT environment variable not set, consider setting it to identify your requests.\n"
     ]
    }
   ],
   "source": [
    "#### INDEXING ####\n",
    "\n",
    "# Load blog\n",
    "import bs4\n",
    "from langchain_community.document_loaders import WebBaseLoader\n",
    "loader = WebBaseLoader(\n",
    "    web_paths=(\"https://www.geeksforgeeks.org/what-is-feature-engineering/\",),\n",
    "    bs_kwargs=dict(\n",
    "        parse_only=bs4.SoupStrainer(\n",
    "            class_=(\"post-content\", \"post-template-default single single-post postid-980684 single-format-standard custom-background custom-background-white\", \"post-header\")\n",
    "        )\n",
    "    ),\n",
    ")\n"
   ]
  },
  {
   "cell_type": "code",
   "execution_count": 8,
   "id": "a9f75553-ab7f-4bf5-8f24-a99dd8742a07",
   "metadata": {},
   "outputs": [],
   "source": [
    "blog_docs = loader.load()\n",
    "\n",
    "# Split\n",
    "from langchain.text_splitter import RecursiveCharacterTextSplitter\n",
    "text_splitter = RecursiveCharacterTextSplitter.from_tiktoken_encoder(\n",
    "    chunk_size=100, \n",
    "    chunk_overlap=50)\n",
    "\n",
    "# Make splits\n",
    "splits = text_splitter.split_documents(blog_docs)\n",
    "\n",
    "splits = splits[:10]"
   ]
  },
  {
   "cell_type": "code",
   "execution_count": null,
   "id": "a0db58b5-7489-4736-a29f-34f5e3d3a94c",
   "metadata": {},
   "outputs": [],
   "source": [
    "# # Index\n",
    "from langchain_openai import OpenAIEmbeddings\n",
    "# from langchain_cohere import CohereEmbeddings\n",
    "from langchain_community.vectorstores import Chroma\n",
    "vectorstore = Chroma.from_documents(documents=splits, \n",
    "                                    # embedding=CohereEmbeddings()\n",
    "                                    embedding=OpenAIEmbeddings())\n",
    "\n",
    "\n",
    "retriever = vectorstore.as_retriever()"
   ]
  },
  {
   "cell_type": "code",
   "execution_count": 8,
   "id": "2c0f410f-ebc0-4e20-89f1-994ba9c686d5",
   "metadata": {},
   "outputs": [
    {
     "name": "stdout",
     "output_type": "stream",
     "text": [
      "138\n"
     ]
    }
   ],
   "source": [
    "print(len(splits)) "
   ]
  },
  {
   "cell_type": "code",
   "execution_count": 3,
   "id": "9f339426-016e-4cf8-b3c1-560dd8309749",
   "metadata": {},
   "outputs": [
    {
     "data": {
      "text/plain": [
       "[Document(metadata={'source': 'nsa-health-insurance-basics.pdf', 'page': 0}, page_content='1\\nHealth Insurance Basics\\nThis document explains key health insurance concepts that may be \\nhelpful to consumers in understanding their health coverage as well \\nas to consumer advocates who help individuals resolve medical \\nbilling problems. This resource is not intended to describe everything that is important to \\nknow about insurance. For more complete information, see the Coverage to Care resources \\ndeveloped by the Centers for Medicare & Medicaid Services. \\nWhat is Health Insurance and Why is it Important?\\nHealth insurance is a legal entitlement to payment or reimbursement for your health care costs, generally \\nunder a contract with a health insurance company.  Health insurance provides important financial \\nprotection in case you have an accident or sickness. For example, health insurance may help to pay for \\ndoctors’ services, medications, hospital care, and special equipment when someone is sick or injured, often \\nin exchange for a monthly premium. It may help cover a stay at a rehabilitation hospital or even a portion \\nof home health care. Heath insurance can also keep a consumer’s costs down when they are not sick. For \\nexample, it can help pay for routine check-ups. Most health insurance also covers many preventive services \\nat no cost, such as immunizations and cancer screening and counseling.\\nWhat is a Health Insurance Plan (also called a health plan or policy)?\\nA health insurance plan includes a package of covered health care items and services and sets how much \\nit will pay for those items and services. In other words, a health plan will describe the types of health care \\nitems and services it will cover (help pay for), how much it will pay for those items and services (or groups \\nof items and services), and for how long. Plans are often designed to last for a year at a time (known as \\na “plan year” or “policy year”).  A health plan may be a benefit that an employer, union, or other group \\nsponsor provides to employees or members to pay for their health care services. \\nWhat are Some Types of Health Care Coverage?\\nHealth care coverage is often grouped into two general categories: private and public. The majority of people \\nin the U.S. have private insurance, which they receive through their employer (which may include non-\\ngovernment employers or government employers at the federal, state or local level), buy directly from an \\ninsurance company, or buy through a Health Insurance Marketplace®.1 Some people have public health care \\ncoverage through government programs such as Medicare, Medicaid, or the Veteran’s Health Administration. \\nHealth care coverage can also be categorized by the scope of benefits it offers or how long the coverage \\nlasts. Health insurance often includes a wide range of covered services, including emergency and non-\\nemergency services as well mental health benefits. Some people have very limited insurance plans, such as \\nplans with benefits for only specific conditions or diseases (included in the list of “excepted benefits” under \\nthe Affordable Care Act, such as vision-only plans or cancer plans). \\nThis document is intended to provide clarity to the public about requirements related to surprise billing. \\nIt does not have the force and effect of law.\\n 1 Health Insurance Marketplace® is a registered service mark of the U.S. Department of Health & Human Services.\\nRevision Date: 9/2023'),\n",
       " Document(metadata={'source': 'nsa-health-insurance-basics.pdf', 'page': 1}, page_content='2\\nHealth Insurance Basics\\nAs noted above, many health plans offer coverage for a year. However, some plans offer coverage for less \\nthan 12 months, including plans created to fill gaps in coverage. These plans are called short-term limited \\nduration plans, and they often offer fewer benefits as compared to other health plans and lack some of the \\nconsumer protections available under other forms of coverage. \\nSelf-Insured Employer Plans vs. Fully-Insured Plans\\nFor consumers who receive health insurance through their employer, there are \\ntypically two different funding structures employers use to provide coverage:\\n y Some employers offer health care coverage to their employees through a \\nself-insured plan. This is a type of health plan that is usually offered by larger companies where \\nthe employer collects contributions from employees via payroll deductions and takes on the \\nresponsibility of paying all related medical claims. These employers can contract with a third-\\nparty administrator (in some cases, a health insurance company acting as an administrator) for \\nservices such as enrollment, claims processing, and managing provider networks. Alternatively, \\nthese employers can self-administer the services. Self-insured plans are regulated by the federal \\ngovernment and are generally not subject to state insurance laws. \\n y A fully-insured employer plan is a health plan purchased by an employer from an insurance \\ncompany. The insurance company, instead of the employer, takes on the responsibility of paying \\nemployees’ and dependents’ medical claims in exchange for a premium from the employer.\\nDoes a Health Plan Typically Pay for Services from Any Doctor?\\nNot always. Some types of plans encourage or require consumers to get care from a specific set of doctors, \\nhospitals, pharmacies, and other medical service providers who have entered into contracts with the \\nplan to provide items and services at a negotiated rate. The providers in this designated set or network of \\nproviders are called “in-network” providers. \\n y In-Network Provider: A provider who has a contract with a plan to provide \\nhealth care items and services at a negotiated (or discounted) rate to \\nconsumers enrolled in the plan. Consumers will generally pay less if they \\nsee a provider in the network. These providers may also be called “preferred \\nproviders” or “participating providers.”\\n y Out-of-Network Provider: A provider who doesn’t have a contract with \\na plan to provide health care items and services. If a plan covers out-\\nof-network services, the consumer usually pays more to see an out-of-network provider than an \\nin-network provider. If a plan does not cover out-of-network services, then the consumer may, in most \\nnon-emergency instances, be responsible for paying the full amount charged by the out-of-network \\nprovider. Out-of-network providers may also be called “non-preferred” or “non-participating” providers. \\n'),\n",
       " Document(metadata={'source': 'nsa-health-insurance-basics.pdf', 'page': 2}, page_content='3\\nHealth Insurance Basics\\nSome examples of plan types that use provider networks \\ninclude the following: \\n y Health Maintenance Organization (HMO): A type of \\nhealth insurance plan that usually limits coverage to care \\nfrom doctors who work for or contract with the HMO. It \\ngenerally won’t cover out-of-network care except in an \\nemergency, or when a prior authorization to obtain care \\noutside the network has been approved, or as otherwise \\nrequired by law. An HMO may require a consumer to live \\nor work in its service area to be eligible for coverage. \\nHMOs often provide integrated care and focus on \\nprevention and wellness. An HMO may require enrollees \\nto obtain a referral from a primary care doctor to access \\nother specialists.  \\nConsumers can contact their \\ninsurance company or health \\nplan to find out which providers \\nare in-network.  Health plans \\nusually have online provider \\ndirectories that tell patients \\nwhether their doctor, other \\nprovider, or hospital is in-\\nnetwork with the health plan. It \\nis important to remember that \\nnetworks can change. It’s a good \\nidea for consumers to check with \\ntheir provider about whether \\nthey are in-network each time \\nthey make an appointment, so \\nthey know how much they will \\nhave to pay.\\n y Exclusive Provider Organization (EPO): A type of \\nhealth plan where services are generally covered only \\nif the consumer uses in-network doctors, specialists, or \\nhospitals (except in an emergency). In general, EPOs do \\nnot require a referral from a primary care doctor to see \\nother specialists, and in general there is very limited, if \\nany, out-of-network coverage. \\n y Point of Service (POS): A type of plan where a consumer pays less if they use in-network doctors, \\nhospitals, and other health care providers. POS plans may require consumers to get a referral from their \\nprimary care doctor in order to see a specialist.\\n y Preferred Provider Organization (PPO): A type of health plan where consumers pay less if they use \\nin-network providers. They can use out-of-network doctors, hospitals, and providers without a referral \\nfor an additional cost.\\nIf a consumer has health coverage and receives care from \\nan out-of-network provider or facility, their health plan might \\nnot cover the entire cost. Sometimes the out-of-network \\nprovider or facility could ask the consumer to pay the \\ndifference between the billed charge and the amount their \\nhealth plan covers. This type of bill is called a “balance bill” \\nor a “surprise bill.” The No Surprises Act, a recent federal law, \\nprohibits surprise billing in some circumstances. See the \\nNo Surprises Act: Overview of Key Consumer Protections.'),\n",
       " Document(metadata={'source': 'nsa-health-insurance-basics.pdf', 'page': 3}, page_content='4\\nHealth Insurance Basics\\nInsurance Costs\\nConsumers typically pay the following types of costs when they have insurance. \\n y Premium: The premium is an amount of money a consumer pays for a health \\ninsurance plan. The consumer and/or their employer usually make this payment \\nbi-weekly, monthly, quarterly, or yearly. The premium must be paid regardless of \\nhow many services, if any, the consumer uses. \\n y Cost Sharing: Cost sharing is the share of costs for covered services that consumers must pay out of pocket. \\nThis term generally includes deductibles, coinsurance, and copayments, or similar charges, but it doesn’t \\ninclude premiums, balance billing amounts for out-of-network providers, or the cost of non-covered \\nservices. Cost sharing in Medicaid and  Children’s Health Insurance Program also includes premiums.\\n y Deductible: The amount a consumer must pay for covered health care services received before their \\nplan begins to pay. For example, if a consumer’s deductible is $1,000, their plan won’t pay anything \\nuntil the consumer has paid $1,000 for covered health care services. A plan with an overall deductible \\nmay also have separate deductibles that apply to specific services or groups of services. For example, a \\nplan may have separate in-network and out-of-network deductibles.\\n y Copayment: A fixed amount ($20, for example) that a consumer pays for a covered health care service \\nafter they’ve paid their deductible. \\n y Coinsurance: The percentage of the costs of a covered health care service that a consumer pays (for \\nexample, 15% of the cost of a prescription) after paying a deductible.\\nSee Appendix A for examples of how cost sharing works.\\nTips to Know: \\n y Sometimes consumers with most types of health insurance don’t have to pay any cost sharing \\nfor certain services. This is often true for preventive services like flu shots and some cancer \\nscreenings. The goal is to keep enrollees healthy and catch health problems early. \\n y Many health insurance plans have an out-of-pocket maximum. This is the most a consumer could \\npay during a coverage period (usually one year) for their share of the costs of covered services. \\nAfter they meet this limit, the plan will usually pay 100% of the allowed amount. This limit never \\nincludes the premiums, balance-billed charges, or care that the consumer’s plan doesn’t cover. \\nSome plans don’t count all of a consumer’s copayments, deductibles, coinsurance payments, out-\\nof-network payments, or other expenses toward this limit.\\n y In the majority of situations, the most important document for tracking health \\ninsurance costs is usually called an Explanation of Benefits (EOB). The EOB is a \\nsummary of health care charges that a health plan may send after a consumer \\nreceives medical care. It is not a bill. It shows the consumer how much their \\nprovider is charging the health plan for the care they received, and the amount \\nthe plan will cover. If the plan does not cover the entire cost, the provider may \\nsend the consumer a separate bill, unless prohibited by law.'),\n",
       " Document(metadata={'source': 'nsa-health-insurance-basics.pdf', 'page': 4}, page_content='5\\nHealth Insurance Basics\\nAppendix A\\nExamples of Health Insurance Cost Sharing\\nThis appendix provides some examples of how health insurance cost sharing works for \\nconsumers.  These examples show different outcomes depending on whether a consumer \\nhas met their deductible and whether their health insurance includes out-of-network \\ncoverage. This information is intended to illustrate some of the basic steps that are typically \\nused to calculate cost sharing in the absence of consumer surprise billing protections (or \\nwhen such protections don’t apply). \\nIN-NETWORK:  \\nA consumer receives covered items or services from an in-network provider or facility.\\nIf the services are covered by the consumer’s health plan and \\nfurnished by an in-network provider or facility, the amount a \\nconsumer pays will vary based on whether the consumer has met \\ntheir in-network deductible as well as the level of their coinsurance. \\nNote the “allowed amount” is the maximum payment the plan will \\npay for a covered health care item or service and is generally the \\nbasis for cost-sharing calculations.\\nIn the next two examples, assume the consumer’s health plan specifies that coinsurance is 20 percent of \\nthe allowed amount after the consumer has met a $2,000 deductible for in-network coverage.\\nBased on their in-network \\nstatus with the health plan, \\nthe provider may only charge \\nthe consumer up to the \\n“allowed amount.”\\n1.  The consumer has not paid anything  \\n      toward the in-network deductible.  Example Amounts:\\nIn-network provider bills health plan: $1,000\\nHealth plan “allowed amount” for provider: $750\\nHealth plan pays: $0 (since consumer has not met deductible)\\nConsumer owes: $750 (100 percent of allowed amount since consumer \\nhas not met deductible)\\nProvider bills consumer: $750\\nTotal the consumer pays: $750'),\n",
       " Document(metadata={'source': 'nsa-health-insurance-basics.pdf', 'page': 5}, page_content='6\\nHealth Insurance Basics\\n2.  The consumer has fully met the  \\n      in-network deductible. Example Amounts:\\nIn-network provider bills health plan: $1,000\\nHealth plan “allowed amount” for provider: $750\\nHealth plan pays: $600 (80 percent of allowed amount after deductible \\nis met)\\nConsumer coinsurance owed: $150 (20 percent of allowed amount after deductible \\nis met)\\nProvider bills consumer: $150\\nTotal the consumer pays: $150\\nOUT-OF-NETWORK:  \\nThe consumer receives covered items or services from an out-of-network provider. \\nIf the covered items or services are received out-of-network, a consumer’s \\nbilled amounts will vary based on whether the consumer’s health plan provides \\nany out-of-network coverage and whether the consumer has met their out-of-\\nnetwork deductible.\\nIn some circumstances, the No Surprises Act may limit what a consumer may be \\nbilled in each of the following examples. See the No Surprises Act: Overview of Key \\nConsumer Protections.\\n3.  The consumer has no out-of-network  \\n      coverage for the services. Example Amounts:\\nOut-of-network provider bills health plan: $1,000 (claim subsequently rejected for lack of out-of-\\nnetwork coverage)\\nHealth plan “allowed amount” for provider: Not applicable – no out-of-network coverage\\nHealth plan pays: $0 (since no out-of-network coverage)\\nConsumer coinsurance owed: Not applicable – no out-of-network coverage\\nProvider bills consumer: $1,000 (provider bills full amount since consumer has \\nno out-of-network coverage)\\nTotal the consumer pays: $1,000'),\n",
       " Document(metadata={'source': 'nsa-health-insurance-basics.pdf', 'page': 6}, page_content='7\\nHealth Insurance Basics\\nIn the next two examples, the plan covers out-of-network services with consumer coinsurance of 40 percent \\nafter the consumer has met a $4,000 deductible for out-of-network services. If the consumer has not paid \\nanything toward the out-of-network deductible, the provider would bill the consumer for the full amount \\nof the charges if the charges are less than $4,000 (example 4). If the consumer has already paid their full \\ndeductible, a provider might balance bill a consumer for the difference between what the provider receives \\nfrom the health plan and the provider’s initial billed amount (example 5).\\n4.  The consumer has not paid anything  \\n      toward the out-of-network deductible. Example Amounts:\\nProvider bills health plan: $1,000\\nHealth plan “allowed amount” for provider: $550 \\nHealth plan pays: $0 (deductible not met)\\nConsumer owes: $550 (100 percent of allowed amount since consumer \\nhas not met deductible)\\nProvider bills consumer: $550 + possible $450 balance billed \\nTotal the consumer pays: $1,000 ($550 + $450)\\n5.  The consumer has fully met the out-of- \\n      network deductible. Example Amounts:\\nProvider bills health plan: $1,000\\nHealth plan “allowed amount” for provider: $550\\nHealth plan pays: $330 (60 percent of allowed amount after deductible is \\nmet)\\nConsumer coinsurance owed: $220 (40 percent of allowed amount after deductible is \\nmet)\\nProvider bills consumer: $220 + possibly $450 balance billed \\nTotal the consumer pays: $670 ($220 + $450)\\nThis communication was printed, published, or produced and disseminated at U.S. taxpayer expense.\\n')]"
      ]
     },
     "execution_count": 3,
     "metadata": {},
     "output_type": "execute_result"
    }
   ],
   "source": [
    "from langchain_community.document_loaders import PyPDFLoader\n",
    "pdf_load = PyPDFLoader('nsa-health-insurance-basics.pdf')\n",
    "pdf_text = pdf_load.load()\n",
    "pdf_text"
   ]
  },
  {
   "cell_type": "code",
   "execution_count": 4,
   "id": "794d5bc9-f7d8-405f-ae28-70ceee9dd3a0",
   "metadata": {},
   "outputs": [
    {
     "data": {
      "text/plain": [
       "[Document(metadata={'source': 'nsa-health-insurance-basics.pdf', 'page': 0}, page_content='1\\nHealth Insurance Basics\\nThis document explains key health insurance concepts that may be \\nhelpful to consumers in understanding their health coverage as well \\nas to consumer advocates who help individuals resolve medical \\nbilling problems. This resource is not intended to describe everything that is important to \\nknow about insurance. For more complete information, see the Coverage to Care resources \\ndeveloped by the Centers for Medicare & Medicaid Services. \\nWhat is Health Insurance and Why is it Important?\\nHealth insurance is a legal entitlement to payment or reimbursement for your health care costs, generally \\nunder a contract with a health insurance company.  Health insurance provides important financial \\nprotection in case you have an accident or sickness. For example, health insurance may help to pay for \\ndoctors’ services, medications, hospital care, and special equipment when someone is sick or injured, often'),\n",
       " Document(metadata={'source': 'nsa-health-insurance-basics.pdf', 'page': 0}, page_content='doctors’ services, medications, hospital care, and special equipment when someone is sick or injured, often \\nin exchange for a monthly premium. It may help cover a stay at a rehabilitation hospital or even a portion \\nof home health care. Heath insurance can also keep a consumer’s costs down when they are not sick. For \\nexample, it can help pay for routine check-ups. Most health insurance also covers many preventive services \\nat no cost, such as immunizations and cancer screening and counseling.\\nWhat is a Health Insurance Plan (also called a health plan or policy)?\\nA health insurance plan includes a package of covered health care items and services and sets how much \\nit will pay for those items and services. In other words, a health plan will describe the types of health care \\nitems and services it will cover (help pay for), how much it will pay for those items and services (or groups'),\n",
       " Document(metadata={'source': 'nsa-health-insurance-basics.pdf', 'page': 0}, page_content='items and services it will cover (help pay for), how much it will pay for those items and services (or groups \\nof items and services), and for how long. Plans are often designed to last for a year at a time (known as \\na “plan year” or “policy year”).  A health plan may be a benefit that an employer, union, or other group \\nsponsor provides to employees or members to pay for their health care services. \\nWhat are Some Types of Health Care Coverage?\\nHealth care coverage is often grouped into two general categories: private and public. The majority of people \\nin the U.S. have private insurance, which they receive through their employer (which may include non-\\ngovernment employers or government employers at the federal, state or local level), buy directly from an \\ninsurance company, or buy through a Health Insurance Marketplace®.1 Some people have public health care \\ncoverage through government programs such as Medicare, Medicaid, or the Veteran’s Health Administration.'),\n",
       " Document(metadata={'source': 'nsa-health-insurance-basics.pdf', 'page': 0}, page_content='coverage through government programs such as Medicare, Medicaid, or the Veteran’s Health Administration. \\nHealth care coverage can also be categorized by the scope of benefits it offers or how long the coverage \\nlasts. Health insurance often includes a wide range of covered services, including emergency and non-\\nemergency services as well mental health benefits. Some people have very limited insurance plans, such as \\nplans with benefits for only specific conditions or diseases (included in the list of “excepted benefits” under \\nthe Affordable Care Act, such as vision-only plans or cancer plans). \\nThis document is intended to provide clarity to the public about requirements related to surprise billing. \\nIt does not have the force and effect of law.\\n 1 Health Insurance Marketplace® is a registered service mark of the U.S. Department of Health & Human Services.\\nRevision Date: 9/2023'),\n",
       " Document(metadata={'source': 'nsa-health-insurance-basics.pdf', 'page': 1}, page_content='2\\nHealth Insurance Basics\\nAs noted above, many health plans offer coverage for a year. However, some plans offer coverage for less \\nthan 12 months, including plans created to fill gaps in coverage. These plans are called short-term limited \\nduration plans, and they often offer fewer benefits as compared to other health plans and lack some of the \\nconsumer protections available under other forms of coverage. \\nSelf-Insured Employer Plans vs. Fully-Insured Plans\\nFor consumers who receive health insurance through their employer, there are \\ntypically two different funding structures employers use to provide coverage:\\n y Some employers offer health care coverage to their employees through a \\nself-insured plan. This is a type of health plan that is usually offered by larger companies where \\nthe employer collects contributions from employees via payroll deductions and takes on the \\nresponsibility of paying all related medical claims. These employers can contract with a third-')]"
      ]
     },
     "execution_count": 4,
     "metadata": {},
     "output_type": "execute_result"
    }
   ],
   "source": [
    "#Dividing the data into chunks to then convert into vector embeddings for storage\n",
    "\n",
    "from langchain.text_splitter import RecursiveCharacterTextSplitter\n",
    "text_splitter = RecursiveCharacterTextSplitter(chunk_size = 1000, chunk_overlap=200)\n",
    "\n",
    "document = text_splitter.split_documents(pdf_text)\n",
    "\n",
    "document[:5]"
   ]
  },
  {
   "cell_type": "code",
   "execution_count": 5,
   "id": "7e70bdb9-861f-474c-be27-17c3550b21b4",
   "metadata": {},
   "outputs": [
    {
     "data": {
      "text/plain": [
       "23"
      ]
     },
     "execution_count": 5,
     "metadata": {},
     "output_type": "execute_result"
    }
   ],
   "source": [
    "len(document)"
   ]
  },
  {
   "cell_type": "code",
   "execution_count": null,
   "id": "4d903a87-3098-4c32-9e24-4ec4bec523e9",
   "metadata": {},
   "outputs": [
    {
     "name": "stderr",
     "output_type": "stream",
     "text": [
      "C:\\Users\\aksha\\AppData\\Local\\Temp\\ipykernel_24388\\2379158842.py:3: LangChainDeprecationWarning: The class `OpenAIEmbeddings` was deprecated in LangChain 0.0.9 and will be removed in 1.0. An updated version of the class exists in the :class:`~langchain-openai package and should be used instead. To use it run `pip install -U :class:`~langchain-openai` and import as `from :class:`~langchain_openai import OpenAIEmbeddings``.\n",
      "  embed = OpenAIEmbeddings()\n"
     ]
    }
   ],
   "source": [
    "from langchain_community.embeddings import OpenAIEmbeddings\n",
    "from langchain_community.vectorstores import  Chroma\n",
    "embed = OpenAIEmbeddings()\n",
    "\n",
    "db = Chroma.from_documents([document[0]], embed, persist_directory=None)\n"
   ]
  },
  {
   "cell_type": "code",
   "execution_count": null,
   "id": "213a0597-ce2a-41e5-b660-302e7a5b1b84",
   "metadata": {},
   "outputs": [],
   "source": []
  }
 ],
 "metadata": {
  "kernelspec": {
   "display_name": "Python 3",
   "language": "python",
   "name": "python3"
  },
  "language_info": {
   "codemirror_mode": {
    "name": "ipython",
    "version": 3
   },
   "file_extension": ".py",
   "mimetype": "text/x-python",
   "name": "python",
   "nbconvert_exporter": "python",
   "pygments_lexer": "ipython3",
   "version": "3.12.6"
  }
 },
 "nbformat": 4,
 "nbformat_minor": 5
}
